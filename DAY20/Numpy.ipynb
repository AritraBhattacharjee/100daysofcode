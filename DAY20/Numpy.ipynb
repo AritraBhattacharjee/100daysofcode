{
 "cells": [
  {
   "cell_type": "code",
   "execution_count": 1,
   "id": "82cd6c3c",
   "metadata": {},
   "outputs": [],
   "source": [
    "import numpy as np"
   ]
  },
  {
   "cell_type": "code",
   "execution_count": 2,
   "id": "043c2916",
   "metadata": {},
   "outputs": [
    {
     "name": "stdout",
     "output_type": "stream",
     "text": [
      "[1 2 3 4 5 6]\n",
      "(6,)\n",
      "int32\n"
     ]
    }
   ],
   "source": [
    "# Creating numpy array from a python list\n",
    "lst = [1,2,3,4,5,6]\n",
    "arr = np.array(lst)\n",
    "print(arr)\n",
    "print(arr.shape) # gives the dimensions of the array\n",
    "print(arr.dtype)"
   ]
  },
  {
   "cell_type": "code",
   "execution_count": 3,
   "id": "909d26e3",
   "metadata": {},
   "outputs": [
    {
     "name": "stdout",
     "output_type": "stream",
     "text": [
      "[1 2 3 4 5 6]\n",
      "[9 2 3 4 5 6]\n"
     ]
    }
   ],
   "source": [
    "print(arr)\n",
    "arr[0] = 9\n",
    "print(arr)"
   ]
  },
  {
   "cell_type": "code",
   "execution_count": 4,
   "id": "3f5fa3e7",
   "metadata": {},
   "outputs": [],
   "source": [
    "# we can set the dtype of an array for efficient memory management\n",
    "lst = [9,8,7,6,5,4,3,2,1]\n",
    "myarr = np.array(lst,np.int8)"
   ]
  },
  {
   "cell_type": "code",
   "execution_count": 5,
   "id": "b984b6c5",
   "metadata": {},
   "outputs": [
    {
     "name": "stdout",
     "output_type": "stream",
     "text": [
      "[9 8 7 6 5 4 3 2 1]\n"
     ]
    }
   ],
   "source": [
    "print(myarr)"
   ]
  },
  {
   "cell_type": "code",
   "execution_count": 6,
   "id": "9c71718b",
   "metadata": {},
   "outputs": [
    {
     "name": "stdout",
     "output_type": "stream",
     "text": [
      "int8\n"
     ]
    }
   ],
   "source": [
    "print(myarr.dtype)\n",
    "# More reference on dtype  object\n",
    "# https://numpy.org/doc/stable/reference/arrays.dtypes.html"
   ]
  },
  {
   "cell_type": "code",
   "execution_count": 7,
   "id": "8faa1a09",
   "metadata": {},
   "outputs": [
    {
     "name": "stdout",
     "output_type": "stream",
     "text": [
      "[[1 2 3]\n",
      " [4 5 6]\n",
      " [7 8 9]]\n",
      "2\n",
      "(3, 3)\n",
      "int8\n"
     ]
    }
   ],
   "source": [
    "myar = np.array([[1,2,3],[4,5,6],[7,8,9]])\n",
    "print(myar)\n",
    "print(myar[0,1]) #  0 th row, 1st column\n",
    "print(myar.shape) # gives the dimension of the numpy array\n",
    "print(myarr.dtype) # gives the datatype of the numpy array\n"
   ]
  },
  {
   "cell_type": "code",
   "execution_count": 8,
   "id": "50dae029",
   "metadata": {},
   "outputs": [
    {
     "name": "stdout",
     "output_type": "stream",
     "text": [
      "[[0. 0. 0. 0.]\n",
      " [0. 0. 0. 0.]]\n"
     ]
    }
   ],
   "source": [
    "zero = np.zeros((2,4))  # gives a matrix of dimension 2 X 4 filled with zeros\n",
    "print(zero)"
   ]
  },
  {
   "cell_type": "code",
   "execution_count": 9,
   "id": "8add6e7b",
   "metadata": {},
   "outputs": [
    {
     "name": "stdout",
     "output_type": "stream",
     "text": [
      "[0 1 2 3 4 5 6 7 8 9]\n"
     ]
    }
   ],
   "source": [
    "rng = np.arange(10)  # gives a 1d array from 0 to the given range\n",
    "print(rng)"
   ]
  },
  {
   "cell_type": "code",
   "execution_count": 10,
   "id": "9655c0af",
   "metadata": {},
   "outputs": [
    {
     "name": "stdout",
     "output_type": "stream",
     "text": [
      "[ 0.          5.55555556 11.11111111 16.66666667 22.22222222 27.77777778\n",
      " 33.33333333 38.88888889 44.44444444 50.        ]\n"
     ]
    }
   ],
   "source": [
    "linear_space = np.linspace(0,50,10) # gives numbers in between the range that are equally spaced between each \n",
    "# and every consecutive number\n",
    "print(linear_space)"
   ]
  },
  {
   "cell_type": "code",
   "execution_count": 11,
   "id": "f567ca3b",
   "metadata": {},
   "outputs": [
    {
     "name": "stdout",
     "output_type": "stream",
     "text": [
      "[[9.60319856e-312 2.47032823e-322]\n",
      " [0.00000000e+000 0.00000000e+000]\n",
      " [1.10343781e-312 1.31370903e-076]\n",
      " [6.81495891e-091 5.64053487e-062]\n",
      " [8.26661046e-072 3.40609499e-057]\n",
      " [3.99910963e+252 1.90979636e-312]]\n"
     ]
    }
   ],
   "source": [
    "emp = np.empty((6,2)) # gives an n X m matrix filled with random numbers(empty matrix)\n",
    "print(emp)"
   ]
  },
  {
   "cell_type": "code",
   "execution_count": 12,
   "id": "9e9e61bb",
   "metadata": {},
   "outputs": [
    {
     "name": "stdout",
     "output_type": "stream",
     "text": [
      "[[1. 0. 0. 0. 0. 0. 0. 0. 0. 0.]\n",
      " [0. 1. 0. 0. 0. 0. 0. 0. 0. 0.]\n",
      " [0. 0. 1. 0. 0. 0. 0. 0. 0. 0.]\n",
      " [0. 0. 0. 1. 0. 0. 0. 0. 0. 0.]\n",
      " [0. 0. 0. 0. 1. 0. 0. 0. 0. 0.]\n",
      " [0. 0. 0. 0. 0. 1. 0. 0. 0. 0.]\n",
      " [0. 0. 0. 0. 0. 0. 1. 0. 0. 0.]\n",
      " [0. 0. 0. 0. 0. 0. 0. 1. 0. 0.]\n",
      " [0. 0. 0. 0. 0. 0. 0. 0. 1. 0.]\n",
      " [0. 0. 0. 0. 0. 0. 0. 0. 0. 1.]]\n"
     ]
    }
   ],
   "source": [
    "iden = np.identity(10)  # returns an identity matrix of n X  n dimensions\n",
    "print(iden)"
   ]
  },
  {
   "cell_type": "code",
   "execution_count": 13,
   "id": "df77cade",
   "metadata": {},
   "outputs": [
    {
     "name": "stdout",
     "output_type": "stream",
     "text": [
      "[0 1 2 3 4 5 6 7 8]\n"
     ]
    }
   ],
   "source": [
    "x = np.arange(9)\n",
    "print(x)"
   ]
  },
  {
   "cell_type": "code",
   "execution_count": 14,
   "id": "c0bca865",
   "metadata": {},
   "outputs": [
    {
     "name": "stdout",
     "output_type": "stream",
     "text": [
      "[[0 1 2]\n",
      " [3 4 5]\n",
      " [6 7 8]]\n"
     ]
    }
   ],
   "source": [
    "z = x.reshape(3,3)  #reshapes the array in the given dimensions(iff n*m == number of elements )\n",
    "print(z)"
   ]
  },
  {
   "cell_type": "code",
   "execution_count": 15,
   "id": "ab1a8366",
   "metadata": {},
   "outputs": [
    {
     "name": "stdout",
     "output_type": "stream",
     "text": [
      "[0 1 2 3 4 5 6 7 8]\n"
     ]
    }
   ],
   "source": [
    "z = z.ravel()\n",
    "print(z)"
   ]
  },
  {
   "cell_type": "markdown",
   "id": "65cca199",
   "metadata": {},
   "source": [
    "## Axis in numpy\n"
   ]
  },
  {
   "cell_type": "code",
   "execution_count": 16,
   "id": "65d26437",
   "metadata": {},
   "outputs": [
    {
     "name": "stdout",
     "output_type": "stream",
     "text": [
      "[0 1 2 3 4 5 6 7 8]\n"
     ]
    }
   ],
   "source": [
    "# number of axes in 1d array is 1\n",
    "# number of axes in 2d array in 2 (the axes along the row is axis0, and the axes along the column is axis1)\n",
    "print(z)"
   ]
  },
  {
   "cell_type": "code",
   "execution_count": 17,
   "id": "bae9faed",
   "metadata": {},
   "outputs": [],
   "source": [
    "z= z.reshape(3,3)"
   ]
  },
  {
   "cell_type": "code",
   "execution_count": 18,
   "id": "4be9e158",
   "metadata": {},
   "outputs": [
    {
     "name": "stdout",
     "output_type": "stream",
     "text": [
      "[[0 1 2]\n",
      " [3 4 5]\n",
      " [6 7 8]]\n",
      "[ 9 12 15]\n"
     ]
    }
   ],
   "source": [
    "print(z)\n",
    "print(z.sum(axis =0))"
   ]
  },
  {
   "cell_type": "code",
   "execution_count": 19,
   "id": "ccfe7718",
   "metadata": {},
   "outputs": [
    {
     "name": "stdout",
     "output_type": "stream",
     "text": [
      "[ 3 12 21]\n"
     ]
    }
   ],
   "source": [
    "print(z.sum(axis = 1))"
   ]
  },
  {
   "cell_type": "code",
   "execution_count": 20,
   "id": "e2478150",
   "metadata": {},
   "outputs": [
    {
     "name": "stdout",
     "output_type": "stream",
     "text": [
      "[[0 3 6]\n",
      " [1 4 7]\n",
      " [2 5 8]]\n"
     ]
    }
   ],
   "source": [
    "transpose = z.T  # Transposes a matrix\n",
    "print(transpose)"
   ]
  },
  {
   "cell_type": "code",
   "execution_count": 21,
   "id": "73b963da",
   "metadata": {},
   "outputs": [
    {
     "data": {
      "text/plain": [
       "<numpy.flatiter at 0x1c4a526c8f0>"
      ]
     },
     "execution_count": 21,
     "metadata": {},
     "output_type": "execute_result"
    }
   ],
   "source": [
    "z.flat # returns a iterator for a given matrix"
   ]
  },
  {
   "cell_type": "code",
   "execution_count": 22,
   "id": "40512b56",
   "metadata": {},
   "outputs": [
    {
     "name": "stdout",
     "output_type": "stream",
     "text": [
      "0 1 2 3 4 5 6 7 8 "
     ]
    }
   ],
   "source": [
    "for item in z.flat:\n",
    "    print(item,end=\" \")"
   ]
  },
  {
   "cell_type": "code",
   "execution_count": 23,
   "id": "db765ac1",
   "metadata": {},
   "outputs": [
    {
     "data": {
      "text/plain": [
       "2"
      ]
     },
     "execution_count": 23,
     "metadata": {},
     "output_type": "execute_result"
    }
   ],
   "source": [
    "z.ndim  # number of dimensions"
   ]
  },
  {
   "cell_type": "code",
   "execution_count": 24,
   "id": "342d2d53",
   "metadata": {},
   "outputs": [
    {
     "data": {
      "text/plain": [
       "9"
      ]
     },
     "execution_count": 24,
     "metadata": {},
     "output_type": "execute_result"
    }
   ],
   "source": [
    "z.size # number of elements"
   ]
  },
  {
   "cell_type": "code",
   "execution_count": 25,
   "id": "6940b882",
   "metadata": {},
   "outputs": [
    {
     "data": {
      "text/plain": [
       "36"
      ]
     },
     "execution_count": 25,
     "metadata": {},
     "output_type": "execute_result"
    }
   ],
   "source": [
    "z.nbytes  # total bytes consumed by the elements of the array"
   ]
  },
  {
   "cell_type": "code",
   "execution_count": 26,
   "id": "96aabd8c",
   "metadata": {},
   "outputs": [
    {
     "name": "stdout",
     "output_type": "stream",
     "text": [
      "[  7   9  10  11  63  25 100 120]\n",
      "7\n",
      "0\n",
      "[0 1 2 3 5 4 6 7]\n"
     ]
    }
   ],
   "source": [
    "one = np.array([7,9,10,11,63,25,100,120])\n",
    "print(one)\n",
    "print(one.argmax())  # returns position of the maximum element\n",
    "print(one.argmin())  # returns position of the minimum element\n",
    "print(one.argsort())  # returns position of sorted array w.r.t the original array\n",
    "\n"
   ]
  },
  {
   "cell_type": "code",
   "execution_count": 27,
   "id": "f300e003",
   "metadata": {},
   "outputs": [
    {
     "name": "stdout",
     "output_type": "stream",
     "text": [
      "[[  7   9]\n",
      " [ 10  11]\n",
      " [ 63  25]\n",
      " [100 120]]\n"
     ]
    }
   ],
   "source": [
    "new = one.reshape(4,2)\n",
    "print(new)"
   ]
  },
  {
   "cell_type": "code",
   "execution_count": 28,
   "id": "aca2dd2c",
   "metadata": {},
   "outputs": [
    {
     "name": "stdout",
     "output_type": "stream",
     "text": [
      "[3 3]\n",
      "[1 1 0 1]\n",
      "[0 0]\n",
      "[0 0 1 0]\n",
      "[[0 1]\n",
      " [0 1]\n",
      " [1 0]\n",
      " [0 1]]\n"
     ]
    }
   ],
   "source": [
    "print(new.argmax(axis = 0))\n",
    "print(new.argmax(axis = 1))\n",
    "print(new.argmin(axis = 0))\n",
    "print(new.argmin(axis = 1))\n",
    "print(new.argsort())"
   ]
  },
  {
   "cell_type": "code",
   "execution_count": 29,
   "id": "30266a99",
   "metadata": {},
   "outputs": [
    {
     "name": "stdout",
     "output_type": "stream",
     "text": [
      "[[1 2 3]\n",
      " [4 5 6]\n",
      " [7 8 9]]\n",
      "[[7 8 9]\n",
      " [4 5 6]\n",
      " [1 2 3]]\n"
     ]
    }
   ],
   "source": [
    "mat = np.array([[1,2,3],[4,5,6],[7,8,9]])\n",
    "print(mat)\n",
    "mat2 = np.array([[7,8,9],[4,5,6],[1,2,3]])\n",
    "print(mat2)"
   ]
  },
  {
   "cell_type": "code",
   "execution_count": 30,
   "id": "bc80e6d1",
   "metadata": {},
   "outputs": [
    {
     "name": "stdout",
     "output_type": "stream",
     "text": [
      "[[ 8 10 12]\n",
      " [ 8 10 12]\n",
      " [ 8 10 12]]\n",
      "[[ 7 16 27]\n",
      " [16 25 36]\n",
      " [ 7 16 27]]\n"
     ]
    }
   ],
   "source": [
    "print(mat+mat2)\n",
    "print(mat*mat2)"
   ]
  },
  {
   "cell_type": "code",
   "execution_count": 31,
   "id": "6411497b",
   "metadata": {},
   "outputs": [
    {
     "name": "stdout",
     "output_type": "stream",
     "text": [
      "[[1.         1.41421356 1.73205081]\n",
      " [2.         2.23606798 2.44948974]\n",
      " [2.64575131 2.82842712 3.        ]]\n"
     ]
    }
   ],
   "source": [
    "print(np.sqrt(mat))"
   ]
  },
  {
   "cell_type": "code",
   "execution_count": 32,
   "id": "b8fa4b01",
   "metadata": {},
   "outputs": [
    {
     "name": "stdout",
     "output_type": "stream",
     "text": [
      "45\n",
      "1\n",
      "9\n",
      "(array([0, 0, 0, 1, 1], dtype=int64), array([0, 1, 2, 0, 1], dtype=int64))\n",
      "9\n"
     ]
    },
    {
     "data": {
      "text/plain": [
       "36"
      ]
     },
     "execution_count": 32,
     "metadata": {},
     "output_type": "execute_result"
    }
   ],
   "source": [
    "print(mat.sum())  # sum of all the elements of the matrix\n",
    "print(mat.min())  # minimum of all elements in the matrix \n",
    "print(mat.max()) # maximum of all elements in the matrix\n",
    "print(np.where(mat<6))\n",
    "print(np.count_nonzero(mat))  # counts the number of non-zero numbers\n",
    "mat.itemsize*mat.size  # size of the matrix"
   ]
  },
  {
   "cell_type": "code",
   "execution_count": 33,
   "id": "f5a38407",
   "metadata": {},
   "outputs": [],
   "source": [
    "# https://docs.scipy.org/doc/numpy-1.6.0/reference/generated/numpy.ndarray.html"
   ]
  },
  {
   "cell_type": "code",
   "execution_count": null,
   "id": "43dda7c3",
   "metadata": {},
   "outputs": [],
   "source": []
  }
 ],
 "metadata": {
  "kernelspec": {
   "display_name": "Python 3 (ipykernel)",
   "language": "python",
   "name": "python3"
  },
  "language_info": {
   "codemirror_mode": {
    "name": "ipython",
    "version": 3
   },
   "file_extension": ".py",
   "mimetype": "text/x-python",
   "name": "python",
   "nbconvert_exporter": "python",
   "pygments_lexer": "ipython3",
   "version": "3.9.1"
  }
 },
 "nbformat": 4,
 "nbformat_minor": 5
}
