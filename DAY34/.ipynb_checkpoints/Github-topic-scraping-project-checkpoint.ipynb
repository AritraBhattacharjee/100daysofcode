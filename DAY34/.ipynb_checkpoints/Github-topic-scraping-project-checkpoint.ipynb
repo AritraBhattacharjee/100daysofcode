{
 "cells": [
  {
   "cell_type": "markdown",
   "id": "21c7bcf6",
   "metadata": {},
   "source": [
    "# Github Topic Scrapper\n",
    "    \n",
    "   ### Objective:\n",
    "         - To get the Github page of topics, url : \"www.github.com/topics\"\n",
    "         - Parse the downloaded html content using Beautiful Soup\n",
    "         - Get the desired contents/list of contents from the soup object.\n",
    "         - Make a DataFrame using pandas libraries of the scraped data.\n",
    "         - Finally save the dataframe as .csv or .xlsx according to our preference"
   ]
  },
  {
   "cell_type": "markdown",
   "id": "f96c3173",
   "metadata": {},
   "source": [
    "### Importing the required libraries"
   ]
  },
  {
   "cell_type": "code",
   "execution_count": 1,
   "id": "f98ff9d7",
   "metadata": {},
   "outputs": [],
   "source": [
    "from bs4 import BeautifulSoup\n",
    "import requests,urllib\n",
    "import html5lib\n",
    "import pandas\n",
    "import os\n"
   ]
  },
  {
   "cell_type": "code",
   "execution_count": null,
   "id": "320e94ea",
   "metadata": {},
   "outputs": [],
   "source": []
  },
  {
   "cell_type": "code",
   "execution_count": 2,
   "id": "95edef6a",
   "metadata": {},
   "outputs": [],
   "source": [
    "topics_url = 'https://www.github.com/topics'"
   ]
  },
  {
   "cell_type": "code",
   "execution_count": 3,
   "id": "25ed8f8c",
   "metadata": {},
   "outputs": [],
   "source": [
    "response = requests.get(topics_url)"
   ]
  },
  {
   "cell_type": "code",
   "execution_count": 4,
   "id": "c6e52f97",
   "metadata": {},
   "outputs": [
    {
     "data": {
      "text/plain": [
       "200"
      ]
     },
     "execution_count": 4,
     "metadata": {},
     "output_type": "execute_result"
    }
   ],
   "source": [
    "response.status_code\n",
    "# More on Status Code"
   ]
  },
  {
   "cell_type": "code",
   "execution_count": 5,
   "id": "0ba497b5",
   "metadata": {},
   "outputs": [
    {
     "data": {
      "text/plain": [
       "138992"
      ]
     },
     "execution_count": 5,
     "metadata": {},
     "output_type": "execute_result"
    }
   ],
   "source": [
    "# response.text  # display all the text of the html page\n",
    "len(response.text) # total number of characters in the web page"
   ]
  },
  {
   "cell_type": "code",
   "execution_count": 7,
   "id": "14d7f245",
   "metadata": {},
   "outputs": [
    {
     "name": "stdout",
     "output_type": "stream",
     "text": [
      "\n",
      "\n",
      "<!DOCTYPE html>\n",
      "<html lang=\"en\" data-color-mode=\"auto\" data-light-theme=\"light\" data-dark-theme=\"dark\" >\n",
      "  <head>\n",
      "    <meta charset=\"utf-8\">\n",
      "  <link rel=\"dns-prefetch\" href=\"https://github.githubassets.com\">\n",
      "  <link rel=\"dns-prefetch\" href=\"https://avatars.githubusercontent.com\">\n",
      "  <link rel=\"dns-prefetch\" href=\"https://github-cloud.s3.amazonaws.com\">\n",
      "  <link rel=\"dns-prefetch\" href=\"https://user-images.githubusercontent.com/\">\n",
      "  <link rel=\"preconnect\" href=\"https://github.githubassets.com\" cr\n"
     ]
    }
   ],
   "source": [
    "pagecontent = response.text\n",
    "print(pagecontent[:500])"
   ]
  },
  {
   "cell_type": "code",
   "execution_count": 8,
   "id": "e048335f",
   "metadata": {},
   "outputs": [],
   "source": [
    "soup = BeautifulSoup(pagecontent,'html.parser')"
   ]
  },
  {
   "cell_type": "code",
   "execution_count": 9,
   "id": "a04f5c6a",
   "metadata": {},
   "outputs": [
    {
     "data": {
      "text/plain": [
       "bs4.BeautifulSoup"
      ]
     },
     "execution_count": 9,
     "metadata": {},
     "output_type": "execute_result"
    }
   ],
   "source": [
    "soup\n",
    "type(soup)"
   ]
  },
  {
   "cell_type": "code",
   "execution_count": null,
   "id": "15392d49",
   "metadata": {},
   "outputs": [],
   "source": [
    "#soup.prettify"
   ]
  },
  {
   "cell_type": "code",
   "execution_count": 10,
   "id": "6cb3dfb5",
   "metadata": {},
   "outputs": [
    {
     "name": "stdout",
     "output_type": "stream",
     "text": [
      "<p class=\"f3 lh-condensed mb-0 mt-1 Link--primary\">3D</p>\n",
      "3D\n",
      "<p class=\"f3 lh-condensed mb-0 mt-1 Link--primary\">Ajax</p>\n",
      "Ajax\n",
      "<p class=\"f3 lh-condensed mb-0 mt-1 Link--primary\">Algorithm</p>\n",
      "Algorithm\n",
      "<p class=\"f3 lh-condensed mb-0 mt-1 Link--primary\">Amp</p>\n",
      "Amp\n",
      "<p class=\"f3 lh-condensed mb-0 mt-1 Link--primary\">Android</p>\n",
      "Android\n",
      "<p class=\"f3 lh-condensed mb-0 mt-1 Link--primary\">Angular</p>\n",
      "Angular\n",
      "<p class=\"f3 lh-condensed mb-0 mt-1 Link--primary\">Ansible</p>\n",
      "Ansible\n",
      "<p class=\"f3 lh-condensed mb-0 mt-1 Link--primary\">API</p>\n",
      "API\n",
      "<p class=\"f3 lh-condensed mb-0 mt-1 Link--primary\">Arduino</p>\n",
      "Arduino\n",
      "<p class=\"f3 lh-condensed mb-0 mt-1 Link--primary\">ASP.NET</p>\n",
      "ASP.NET\n",
      "<p class=\"f3 lh-condensed mb-0 mt-1 Link--primary\">Atom</p>\n",
      "Atom\n",
      "<p class=\"f3 lh-condensed mb-0 mt-1 Link--primary\">Awesome Lists</p>\n",
      "Awesome Lists\n",
      "<p class=\"f3 lh-condensed mb-0 mt-1 Link--primary\">Amazon Web Services</p>\n",
      "Amazon Web Services\n",
      "<p class=\"f3 lh-condensed mb-0 mt-1 Link--primary\">Azure</p>\n",
      "Azure\n",
      "<p class=\"f3 lh-condensed mb-0 mt-1 Link--primary\">Babel</p>\n",
      "Babel\n",
      "<p class=\"f3 lh-condensed mb-0 mt-1 Link--primary\">Bash</p>\n",
      "Bash\n",
      "<p class=\"f3 lh-condensed mb-0 mt-1 Link--primary\">Bitcoin</p>\n",
      "Bitcoin\n",
      "<p class=\"f3 lh-condensed mb-0 mt-1 Link--primary\">Bootstrap</p>\n",
      "Bootstrap\n",
      "<p class=\"f3 lh-condensed mb-0 mt-1 Link--primary\">Bot</p>\n",
      "Bot\n",
      "<p class=\"f3 lh-condensed mb-0 mt-1 Link--primary\">C</p>\n",
      "C\n",
      "<p class=\"f3 lh-condensed mb-0 mt-1 Link--primary\">Chrome</p>\n",
      "Chrome\n",
      "<p class=\"f3 lh-condensed mb-0 mt-1 Link--primary\">Chrome extension</p>\n",
      "Chrome extension\n",
      "<p class=\"f3 lh-condensed mb-0 mt-1 Link--primary\">Command line interface</p>\n",
      "Command line interface\n",
      "<p class=\"f3 lh-condensed mb-0 mt-1 Link--primary\">Clojure</p>\n",
      "Clojure\n",
      "<p class=\"f3 lh-condensed mb-0 mt-1 Link--primary\">Code quality</p>\n",
      "Code quality\n",
      "<p class=\"f3 lh-condensed mb-0 mt-1 Link--primary\">Code review</p>\n",
      "Code review\n",
      "<p class=\"f3 lh-condensed mb-0 mt-1 Link--primary\">Compiler</p>\n",
      "Compiler\n",
      "<p class=\"f3 lh-condensed mb-0 mt-1 Link--primary\">Continuous integration</p>\n",
      "Continuous integration\n",
      "<p class=\"f3 lh-condensed mb-0 mt-1 Link--primary\">COVID-19</p>\n",
      "COVID-19\n",
      "<p class=\"f3 lh-condensed mb-0 mt-1 Link--primary\">C++</p>\n",
      "C++\n"
     ]
    }
   ],
   "source": [
    "p = soup.find_all('p',attrs={\n",
    "    'class':'f3 lh-condensed mb-0 mt-1 Link--primary'\n",
    "    })\n",
    "# print(p)\n",
    "for item in p:\n",
    "    print(item)\n",
    "    print(item.text)"
   ]
  },
  {
   "cell_type": "code",
   "execution_count": 11,
   "id": "7688ffac",
   "metadata": {},
   "outputs": [
    {
     "name": "stdout",
     "output_type": "stream",
     "text": [
      "[<a class=\"no-underline flex-grow-0\" href=\"/topics/3d\">\n",
      "<div class=\"color-bg-accent f4 color-fg-muted text-bold rounded mr-3 flex-shrink-0 text-center\" style=\"width:64px; height:64px; line-height:64px;\">\n",
      "            #\n",
      "          </div>\n",
      "</a>, <a class=\"no-underline flex-grow-0\" href=\"/topics/ajax\">\n",
      "<img alt=\"ajax\" class=\"rounded mr-3\" height=\"64\" src=\"https://raw.githubusercontent.com/github/explore/8be26d91eb231fec0b8856359979ac09f27173fd/topics/ajax/ajax.png\" width=\"64\"/>\n",
      "</a>, <a class=\"no-underline flex-grow-0\" href=\"/topics/algorithm\">\n",
      "<div class=\"color-bg-accent f4 color-fg-muted text-bold rounded mr-3 flex-shrink-0 text-center\" style=\"width:64px; height:64px; line-height:64px;\">\n",
      "            #\n",
      "          </div>\n",
      "</a>, <a class=\"no-underline flex-grow-0\" href=\"/topics/amphp\">\n",
      "<img alt=\"amphp\" class=\"rounded mr-3\" height=\"64\" src=\"https://raw.githubusercontent.com/github/explore/99fe59c0f4fb5d6545311440b4ce89a0d82b0804/topics/amphp/amphp.png\" width=\"64\"/>\n",
      "</a>, <a class=\"no-underline flex-grow-0\" href=\"/topics/android\">\n",
      "<img alt=\"android\" class=\"rounded mr-3\" height=\"64\" src=\"https://raw.githubusercontent.com/github/explore/80688e429a7d4ef2fca1e82350fe8e3517d3494d/topics/android/android.png\" width=\"64\"/>\n",
      "</a>, <a class=\"no-underline flex-grow-0\" href=\"/topics/angular\">\n",
      "<img alt=\"angular\" class=\"rounded mr-3\" height=\"64\" src=\"https://raw.githubusercontent.com/github/explore/80688e429a7d4ef2fca1e82350fe8e3517d3494d/topics/angular/angular.png\" width=\"64\"/>\n",
      "</a>, <a class=\"no-underline flex-grow-0\" href=\"/topics/ansible\">\n",
      "<img alt=\"ansible\" class=\"rounded mr-3\" height=\"64\" src=\"https://raw.githubusercontent.com/github/explore/80688e429a7d4ef2fca1e82350fe8e3517d3494d/topics/ansible/ansible.png\" width=\"64\"/>\n",
      "</a>, <a class=\"no-underline flex-grow-0\" href=\"/topics/api\">\n",
      "<div class=\"color-bg-accent f4 color-fg-muted text-bold rounded mr-3 flex-shrink-0 text-center\" style=\"width:64px; height:64px; line-height:64px;\">\n",
      "            #\n",
      "          </div>\n",
      "</a>, <a class=\"no-underline flex-grow-0\" href=\"/topics/arduino\">\n",
      "<img alt=\"arduino\" class=\"rounded mr-3\" height=\"64\" src=\"https://raw.githubusercontent.com/github/explore/80688e429a7d4ef2fca1e82350fe8e3517d3494d/topics/arduino/arduino.png\" width=\"64\"/>\n",
      "</a>, <a class=\"no-underline flex-grow-0\" href=\"/topics/aspnet\">\n",
      "<img alt=\"aspnet\" class=\"rounded mr-3\" height=\"64\" src=\"https://raw.githubusercontent.com/github/explore/80688e429a7d4ef2fca1e82350fe8e3517d3494d/topics/aspnet/aspnet.png\" width=\"64\"/>\n",
      "</a>, <a class=\"no-underline flex-grow-0\" href=\"/topics/atom\">\n",
      "<img alt=\"atom\" class=\"rounded mr-3\" height=\"64\" src=\"https://raw.githubusercontent.com/github/explore/80688e429a7d4ef2fca1e82350fe8e3517d3494d/topics/atom/atom.png\" width=\"64\"/>\n",
      "</a>, <a class=\"no-underline flex-grow-0\" href=\"/topics/awesome\">\n",
      "<img alt=\"awesome\" class=\"rounded mr-3\" height=\"64\" src=\"https://raw.githubusercontent.com/github/explore/80688e429a7d4ef2fca1e82350fe8e3517d3494d/topics/awesome/awesome.png\" width=\"64\"/>\n",
      "</a>, <a class=\"no-underline flex-grow-0\" href=\"/topics/aws\">\n",
      "<img alt=\"aws\" class=\"rounded mr-3\" height=\"64\" src=\"https://raw.githubusercontent.com/github/explore/fbceb94436312b6dacde68d122a5b9c7d11f9524/topics/aws/aws.png\" width=\"64\"/>\n",
      "</a>, <a class=\"no-underline flex-grow-0\" href=\"/topics/azure\">\n",
      "<img alt=\"azure\" class=\"rounded mr-3\" height=\"64\" src=\"https://raw.githubusercontent.com/github/explore/eaef8552d8b082ffafe2bfc8a5023d47da904aac/topics/azure/azure.png\" width=\"64\"/>\n",
      "</a>, <a class=\"no-underline flex-grow-0\" href=\"/topics/babel\">\n",
      "<img alt=\"babel\" class=\"rounded mr-3\" height=\"64\" src=\"https://raw.githubusercontent.com/github/explore/cb39e2385dfcec8a661d01bfacff6b1e33bbaa9d/topics/babel/babel.png\" width=\"64\"/>\n",
      "</a>, <a class=\"no-underline flex-grow-0\" href=\"/topics/bash\">\n",
      "<img alt=\"bash\" class=\"rounded mr-3\" height=\"64\" src=\"https://raw.githubusercontent.com/github/explore/80688e429a7d4ef2fca1e82350fe8e3517d3494d/topics/bash/bash.png\" width=\"64\"/>\n",
      "</a>, <a class=\"no-underline flex-grow-0\" href=\"/topics/bitcoin\">\n",
      "<img alt=\"bitcoin\" class=\"rounded mr-3\" height=\"64\" src=\"https://raw.githubusercontent.com/github/explore/80688e429a7d4ef2fca1e82350fe8e3517d3494d/topics/bitcoin/bitcoin.png\" width=\"64\"/>\n",
      "</a>, <a class=\"no-underline flex-grow-0\" href=\"/topics/bootstrap\">\n",
      "<img alt=\"bootstrap\" class=\"rounded mr-3\" height=\"64\" src=\"https://raw.githubusercontent.com/github/explore/80688e429a7d4ef2fca1e82350fe8e3517d3494d/topics/bootstrap/bootstrap.png\" width=\"64\"/>\n",
      "</a>, <a class=\"no-underline flex-grow-0\" href=\"/topics/bot\">\n",
      "<img alt=\"bot\" class=\"rounded mr-3\" height=\"64\" src=\"https://raw.githubusercontent.com/github/explore/0a84ca418425da147e4e43b1c74aa169d3265870/topics/bot/bot.png\" width=\"64\"/>\n",
      "</a>, <a class=\"no-underline flex-grow-0\" href=\"/topics/c\">\n",
      "<img alt=\"c\" class=\"rounded mr-3\" height=\"64\" src=\"https://raw.githubusercontent.com/github/explore/f3e22f0dca2be955676bc70d6214b95b13354ee8/topics/c/c.png\" width=\"64\"/>\n",
      "</a>, <a class=\"no-underline flex-grow-0\" href=\"/topics/chrome\">\n",
      "<img alt=\"chrome\" class=\"rounded mr-3\" height=\"64\" src=\"https://raw.githubusercontent.com/github/explore/80688e429a7d4ef2fca1e82350fe8e3517d3494d/topics/chrome/chrome.png\" width=\"64\"/>\n",
      "</a>, <a class=\"no-underline flex-grow-0\" href=\"/topics/chrome-extension\">\n",
      "<img alt=\"chrome-extension\" class=\"rounded mr-3\" height=\"64\" src=\"https://raw.githubusercontent.com/github/explore/80688e429a7d4ef2fca1e82350fe8e3517d3494d/topics/chrome-extension/chrome-extension.png\" width=\"64\"/>\n",
      "</a>, <a class=\"no-underline flex-grow-0\" href=\"/topics/cli\">\n",
      "<img alt=\"cli\" class=\"rounded mr-3\" height=\"64\" src=\"https://raw.githubusercontent.com/github/explore/aca0b3b69ca680013b925338b0cc428190aa42dc/topics/cli/cli.png\" width=\"64\"/>\n",
      "</a>, <a class=\"no-underline flex-grow-0\" href=\"/topics/clojure\">\n",
      "<img alt=\"clojure\" class=\"rounded mr-3\" height=\"64\" src=\"https://raw.githubusercontent.com/github/explore/80688e429a7d4ef2fca1e82350fe8e3517d3494d/topics/clojure/clojure.png\" width=\"64\"/>\n",
      "</a>, <a class=\"no-underline flex-grow-0\" href=\"/topics/code-quality\">\n",
      "<div class=\"color-bg-accent f4 color-fg-muted text-bold rounded mr-3 flex-shrink-0 text-center\" style=\"width:64px; height:64px; line-height:64px;\">\n",
      "            #\n",
      "          </div>\n",
      "</a>, <a class=\"no-underline flex-grow-0\" href=\"/topics/code-review\">\n",
      "<div class=\"color-bg-accent f4 color-fg-muted text-bold rounded mr-3 flex-shrink-0 text-center\" style=\"width:64px; height:64px; line-height:64px;\">\n",
      "            #\n",
      "          </div>\n",
      "</a>, <a class=\"no-underline flex-grow-0\" href=\"/topics/compiler\">\n",
      "<div class=\"color-bg-accent f4 color-fg-muted text-bold rounded mr-3 flex-shrink-0 text-center\" style=\"width:64px; height:64px; line-height:64px;\">\n",
      "            #\n",
      "          </div>\n",
      "</a>, <a class=\"no-underline flex-grow-0\" href=\"/topics/continuous-integration\">\n",
      "<div class=\"color-bg-accent f4 color-fg-muted text-bold rounded mr-3 flex-shrink-0 text-center\" style=\"width:64px; height:64px; line-height:64px;\">\n",
      "            #\n",
      "          </div>\n",
      "</a>, <a class=\"no-underline flex-grow-0\" href=\"/topics/covid-19\">\n",
      "<img alt=\"covid-19\" class=\"rounded mr-3\" height=\"64\" src=\"https://raw.githubusercontent.com/github/explore/af16e074f93c080d7b283815787283cab0e9414b/topics/covid-19/covid-19.png\" width=\"64\"/>\n",
      "</a>, <a class=\"no-underline flex-grow-0\" href=\"/topics/cpp\">\n",
      "<img alt=\"cpp\" class=\"rounded mr-3\" height=\"64\" src=\"https://raw.githubusercontent.com/github/explore/180320cffc25f4ed1bbdfd33d4db3a66eeeeb358/topics/cpp/cpp.png\" width=\"64\"/>\n",
      "</a>]\n"
     ]
    }
   ],
   "source": [
    "topic_link_tag = soup.find_all('a',{'class' : 'no-underline flex-grow-0'})\n",
    "len(topic_link_tag)\n",
    "print(topic_link_tag)"
   ]
  },
  {
   "cell_type": "code",
   "execution_count": null,
   "id": "5c6a997c",
   "metadata": {},
   "outputs": [],
   "source": [
    "topic0_url = \"https://www.github.com\"+topic_link_tag[0]['href']\n",
    "topic0_url"
   ]
  },
  {
   "cell_type": "code",
   "execution_count": null,
   "id": "ce323d87",
   "metadata": {},
   "outputs": [],
   "source": [
    "topic_title = []\n",
    "for tag in p:\n",
    "    topic_title.append(tag.text)\n",
    "topic_title"
   ]
  },
  {
   "cell_type": "code",
   "execution_count": null,
   "id": "3c6dde67",
   "metadata": {},
   "outputs": [],
   "source": [
    "topic_desc_tag = soup.find_all('p', attrs={'class':'f5 color-fg-muted mb-0 mt-1'})"
   ]
  },
  {
   "cell_type": "code",
   "execution_count": null,
   "id": "20fd52d7",
   "metadata": {},
   "outputs": [],
   "source": [
    "topic_desc_tag"
   ]
  },
  {
   "cell_type": "code",
   "execution_count": null,
   "id": "b683b612",
   "metadata": {},
   "outputs": [],
   "source": [
    "topic_descriptions = []\n",
    "\n",
    "for tag in topic_desc_tag:\n",
    "    topic_descriptions.append(tag.text.strip())\n",
    "    \n",
    "print(topic_descriptions)"
   ]
  },
  {
   "cell_type": "code",
   "execution_count": null,
   "id": "d92fe64f",
   "metadata": {},
   "outputs": [],
   "source": [
    "topic_urls = []\n",
    "base = \"https://www.github.com\"\n",
    "for tag in topic_link_tag:\n",
    "    topic_urls.append(base+tag['href'])\n",
    "topic_urls"
   ]
  },
  {
   "cell_type": "markdown",
   "id": "9349bee4",
   "metadata": {},
   "source": []
  },
  {
   "cell_type": "code",
   "execution_count": null,
   "id": "1f150315",
   "metadata": {},
   "outputs": [],
   "source": [
    "topic_dict = {\n",
    "    'Title': topic_title,\n",
    "    'Description' : topic_descriptions,\n",
    "    'Url' : topic_urls\n",
    "}\n",
    "topic_df = pd.DataFrame(topic_dict)\n",
    "topic_df"
   ]
  },
  {
   "cell_type": "code",
   "execution_count": null,
   "id": "4ddd6c7d",
   "metadata": {},
   "outputs": [],
   "source": [
    "topic_df.to_csv('Github_Topics.csv')"
   ]
  },
  {
   "cell_type": "markdown",
   "id": "62994ea1",
   "metadata": {},
   "source": [
    "## getting information out of a topic page url"
   ]
  },
  {
   "cell_type": "code",
   "execution_count": null,
   "id": "5745d5ca",
   "metadata": {},
   "outputs": [],
   "source": [
    "url1 = topic_urls[0]\n",
    "url1"
   ]
  },
  {
   "cell_type": "code",
   "execution_count": null,
   "id": "f2ce2b1e",
   "metadata": {},
   "outputs": [],
   "source": [
    "response = requests.get(url1)"
   ]
  },
  {
   "cell_type": "code",
   "execution_count": null,
   "id": "acaf2992",
   "metadata": {},
   "outputs": [],
   "source": [
    "response.status_code"
   ]
  },
  {
   "cell_type": "code",
   "execution_count": null,
   "id": "59850960",
   "metadata": {},
   "outputs": [],
   "source": [
    "len(response.text)\n"
   ]
  },
  {
   "cell_type": "code",
   "execution_count": null,
   "id": "2e220ebf",
   "metadata": {},
   "outputs": [],
   "source": [
    "soup2 = BeautifulSoup(response.text,'html.parser')\n",
    "# soup2"
   ]
  },
  {
   "cell_type": "code",
   "execution_count": null,
   "id": "34c6a14a",
   "metadata": {},
   "outputs": [],
   "source": [
    "repo_tags = soup2.find_all('h3',attrs={\n",
    "    'class' : 'f3 color-fg-muted text-normal lh-condensed'})\n",
    "len(repo_tags)"
   ]
  },
  {
   "cell_type": "code",
   "execution_count": null,
   "id": "6cb0174d",
   "metadata": {},
   "outputs": [],
   "source": [
    "a_tag = repo_tags[0].find_all('a')\n",
    "# a_tag[0].text.strip()\n",
    "a_tag"
   ]
  },
  {
   "cell_type": "code",
   "execution_count": null,
   "id": "cc000d7d",
   "metadata": {},
   "outputs": [],
   "source": [
    "a_tag[1].text.strip()"
   ]
  },
  {
   "cell_type": "code",
   "execution_count": null,
   "id": "84a46ba7",
   "metadata": {},
   "outputs": [],
   "source": [
    "repo_url = a_tag[1]['href']\n",
    "repo_link1 = base + repo_url\n",
    "repo_link1"
   ]
  },
  {
   "cell_type": "code",
   "execution_count": null,
   "id": "f92849d2",
   "metadata": {},
   "outputs": [],
   "source": [
    "stars= soup2.find_all('span',attrs= {\n",
    "    'class' : 'Counter js-social-count'\n",
    "})\n",
    "stars"
   ]
  },
  {
   "cell_type": "code",
   "execution_count": null,
   "id": "952008cd",
   "metadata": {},
   "outputs": [],
   "source": [
    "star_repo1 = stars[0].text\n",
    "star_repo1"
   ]
  },
  {
   "cell_type": "code",
   "execution_count": null,
   "id": "0ebb1371",
   "metadata": {},
   "outputs": [],
   "source": [
    "def parse_star_count(star_str):\n",
    "    star_str = star_str.strip()\n",
    "    if star_str[-1] == 'k':\n",
    "        return int(float(star_str[:-1])*1000)\n",
    "    return int(stars_str)"
   ]
  },
  {
   "cell_type": "code",
   "execution_count": null,
   "id": "ec99621e",
   "metadata": {},
   "outputs": [],
   "source": [
    "star_repo1 = stars[0].text\n",
    "parse_star_count(star_repo1)"
   ]
  },
  {
   "cell_type": "code",
   "execution_count": null,
   "id": "9136ee4d",
   "metadata": {},
   "outputs": [],
   "source": [
    "def get_repo_info(h3_tag,star_tag):\n",
    "    atags = h3_tag.find_all('a')\n",
    "    username = atags[0].text.strip()\n",
    "    reponame = atags[1].text.strip()\n",
    "    repo_url = \"https://www.github.com\"+ atags[1]['href']\n",
    "    stars = parse_star_count(star_tag.text.strip())\n",
    "    \n",
    "    return username,reponame,repo_url,stars"
   ]
  },
  {
   "cell_type": "code",
   "execution_count": null,
   "id": "ba78e127",
   "metadata": {},
   "outputs": [],
   "source": [
    "star_repo1"
   ]
  },
  {
   "cell_type": "code",
   "execution_count": null,
   "id": "4b1324d4",
   "metadata": {},
   "outputs": [],
   "source": [
    "get_repo_info(repo_tags[0],stars[0])"
   ]
  },
  {
   "cell_type": "code",
   "execution_count": null,
   "id": "5e911816",
   "metadata": {},
   "outputs": [],
   "source": [
    "topic_repo_dict = {\n",
    "    'Username':[],\n",
    "    'Repo_Name':[],\n",
    "    'Repo_Url':[],\n",
    "    'Stars': []\n",
    "}\n",
    "print(repo_tags)\n",
    "for i in range(len(repo_tags)):\n",
    "    repo_info = get_repo_info(repo_tags[i],stars[i])\n",
    "    print(repo_info)\n",
    "    topic_repo_dict['Username'].append(repo_info[0])\n",
    "    topic_repo_dict['Repo_Name'].append(repo_info[1])\n",
    "    topic_repo_dict['Repo_Url'].append(repo_info[2])\n",
    "    topic_repo_dict['Stars'].append(repo_info[3])\n"
   ]
  },
  {
   "cell_type": "code",
   "execution_count": null,
   "id": "7d3288fa",
   "metadata": {
    "scrolled": true
   },
   "outputs": [],
   "source": [
    "topic_repo_dict"
   ]
  },
  {
   "cell_type": "code",
   "execution_count": null,
   "id": "806f06bc",
   "metadata": {},
   "outputs": [],
   "source": [
    "def get_topic_page(topic_url):\n",
    "    response = requests.get(topic_url)\n",
    "    if response.status_code !=200:\n",
    "        raise Exception('Failed to load page {}'.format(topic_url))\n",
    "    topic_doc = BeautifulSoup(response.text,'html.parser')\n",
    "    return topic_doc \n",
    "    \n",
    "def get_topic_repos(topic_doc):\n",
    "    \n",
    "    repo_tags = topic_doc.find_all('h3',attrs={\n",
    "        'class' : 'f3 color-fg-muted text-normal lh-condensed'})\n",
    "    stars_tags= soup2.find_all('span',attrs= {\n",
    "        'class' : 'Counter js-social-count'\n",
    "            })\n",
    "    topic_repo_dicts = {\n",
    "    'Username':[],\n",
    "    'Repo_Name':[],\n",
    "    'Repo_Url':[],\n",
    "    'Stars': []\n",
    "    }\n",
    "    for i in range(len(repo_tags)):\n",
    "        repo_info = get_repo_info(repo_tags[i],stars_tags[i])\n",
    "#         print(repo_info)\n",
    "        topic_repo_dicts['Username'].append(repo_info[0])\n",
    "        topic_repo_dicts['Repo_Name'].append(repo_info[1])\n",
    "        topic_repo_dicts['Repo_Url'].append(repo_info[2])\n",
    "        topic_repo_dicts['Stars'].append(repo_info[3])\n",
    "        \n",
    "    return pd.DataFrame(topic_repo_dicts)\n",
    "\n",
    "\n",
    "def get_repo_info(h3_tag,star_tag):\n",
    "    atags = h3_tag.find_all('a')\n",
    "    username = atags[0].text.strip()\n",
    "    reponame = atags[1].text.strip()\n",
    "    repo_url = \"https://www.github.com\"+ atags[1]['href']\n",
    "    stars = parse_star_count(star_tag.text.strip())\n",
    "    \n",
    "    return username,reponame,repo_url,stars\n",
    "\n",
    "def scrape_topic(topic_url,topic_name):\n",
    "    filename = topic_name+\".csv\"\n",
    "    if os.path.exists(filename):\n",
    "        print(f\"File {filename} already exists. Skipping...\")\n",
    "        return \n",
    "    topic_df = get_topic_repos(get_topic_page(topic_url))\n",
    "    \n",
    "    topic_df.to_csv(filename,index = None)"
   ]
  },
  {
   "cell_type": "code",
   "execution_count": null,
   "id": "9f48e1ee",
   "metadata": {},
   "outputs": [],
   "source": [
    "topic_urls[4]\n"
   ]
  },
  {
   "cell_type": "code",
   "execution_count": null,
   "id": "e247a644",
   "metadata": {},
   "outputs": [],
   "source": [
    "#\n",
    "get_topic_repos(get_topic_page(topic_urls[6]))#.to_csv('ansible.csv0',index = None)\n",
    "\n"
   ]
  },
  {
   "cell_type": "code",
   "execution_count": null,
   "id": "2134e168",
   "metadata": {},
   "outputs": [],
   "source": []
  },
  {
   "cell_type": "code",
   "execution_count": null,
   "id": "05a54785",
   "metadata": {},
   "outputs": [],
   "source": [
    "def get_topic_titles(soup):\n",
    "    topic_title_tags = soup.find_all('p',attrs={\n",
    "    'class':'f3 lh-condensed mb-0 mt-1 Link--primary'\n",
    "    })\n",
    "    topic_link_tag = soup.find_all('a',{'class' : 'no-underline flex-grow-0'})\n",
    "    topic_titles = []\n",
    "    \n",
    "    for tag in topic_title_tags:\n",
    "        topic_titles.append(tag.text)\n",
    "    return topic_titles\n",
    "\n",
    "def get_topic_description(soup):\n",
    "    topic_desc_tag = soup.find_all('p', attrs=\n",
    "                                   {'class':'f5 color-fg-muted mb-0 mt-1'})\n",
    "    topic_descriptions = []\n",
    "\n",
    "    for tag in topic_desc_tag:\n",
    "        topic_descriptions.append(tag.text.strip())\n",
    "    return topic_descriptions\n",
    "\n",
    "def get_topic_urls(soup):\n",
    "    topic_title_tags = soup.find_all('p',attrs={\n",
    "    'class':'f3 lh-condensed mb-0 mt-1 Link--primary'\n",
    "    })\n",
    "    topic_urls = []\n",
    "    base = \"https://www.github.com\"\n",
    "    for tag in topic_link_tags:\n",
    "        topic_urls.append(base+tag['href'])\n",
    "    return topic_urls\n",
    "\n",
    "def scrape_topics():\n",
    "    topics_url = \"https://github.com/topics\"\n",
    "    requests.get(topics_url)\n",
    "    if response.status_code !=200:\n",
    "        raise Exception('Failed to load page {}'.format(topic_url))    \n",
    "    topics_dict = {\n",
    "        'title' : get_topic_titles(soup),\n",
    "        'decscription': get_topic_description(soup),\n",
    "        'url':get_topic_urls(soup)\n",
    "    }\n",
    "    return pd.DataFrame(topics_dict)\n"
   ]
  },
  {
   "cell_type": "code",
   "execution_count": null,
   "id": "2f47b2c3",
   "metadata": {},
   "outputs": [],
   "source": [
    "## Collectings\n",
    "\n",
    "# topic_title_tags = soup.find_all('p',attrs={\n",
    "#     'class':'f3 lh-condensed mb-0 mt-1 Link--primary'\n",
    "#     })\n",
    "\n",
    "\n",
    "# topic_desc_tag = soup.find_all('p', attrs={'class':'f5 color-fg-muted mb-0 mt-1'})\n",
    "\n",
    "# topic_link_tags = soup.find_all('a',{'class' : 'no-underline flex-grow-0'})\n",
    "\n",
    "# topic_title = []\n",
    "# for tag in p:\n",
    "#     topic_title.append(tag.text)\n",
    "# topic_title\n",
    "\n",
    "# topic_descriptions = []\n",
    "\n",
    "# for tag in topic_desc_tag:\n",
    "#     topic_descriptions.append(tag.text.strip())\n",
    "    \n",
    "# print(topic_descriptions)\n",
    "\n",
    "# topic_urls = []\n",
    "# base = \"https://www.github.com\"\n",
    "# for tag in topic_link_tag:\n",
    "#     topic_urls.append(base+tag['href'])\n",
    "# topic_urls\n"
   ]
  },
  {
   "cell_type": "code",
   "execution_count": null,
   "id": "d4f64b51",
   "metadata": {},
   "outputs": [],
   "source": [
    "scrape_topics()"
   ]
  },
  {
   "cell_type": "code",
   "execution_count": null,
   "id": "67ec717f",
   "metadata": {},
   "outputs": [],
   "source": []
  },
  {
   "cell_type": "code",
   "execution_count": null,
   "id": "89ae1ad9",
   "metadata": {},
   "outputs": [],
   "source": [
    "def scrape_topics_repos():\n",
    "    print(\"Scraping list topics from Github\")\n",
    "    topics_df = scrape_topics()\n",
    "    for index,row in topics_df.iterrows():\n",
    "        print(f\"Scraping top repositories for {row['title']}\")\n",
    "        scrape_topic(row['url'],row['title'])\n",
    "        "
   ]
  },
  {
   "cell_type": "code",
   "execution_count": null,
   "id": "deb758d6",
   "metadata": {},
   "outputs": [],
   "source": [
    "scrape_topics_repos()"
   ]
  },
  {
   "cell_type": "code",
   "execution_count": null,
   "id": "b0b51a6b",
   "metadata": {},
   "outputs": [],
   "source": [
    " "
   ]
  },
  {
   "cell_type": "code",
   "execution_count": null,
   "id": "06e4c16b",
   "metadata": {},
   "outputs": [],
   "source": []
  }
 ],
 "metadata": {
  "kernelspec": {
   "display_name": "Python 3 (ipykernel)",
   "language": "python",
   "name": "python3"
  },
  "language_info": {
   "codemirror_mode": {
    "name": "ipython",
    "version": 3
   },
   "file_extension": ".py",
   "mimetype": "text/x-python",
   "name": "python",
   "nbconvert_exporter": "python",
   "pygments_lexer": "ipython3",
   "version": "3.9.1"
  }
 },
 "nbformat": 4,
 "nbformat_minor": 5
}
